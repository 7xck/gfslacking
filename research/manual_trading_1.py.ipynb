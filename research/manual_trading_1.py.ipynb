{
 "cells": [
  {
   "cell_type": "code",
   "execution_count": 53,
   "id": "initial_id",
   "metadata": {
    "collapsed": true,
    "ExecuteTime": {
     "end_time": "2024-04-09T11:46:12.021263Z",
     "start_time": "2024-04-09T11:46:12.018597Z"
    }
   },
   "outputs": [],
   "source": [
    "import pandas as pd\n",
    "import numpy as np\n",
    "import statsmodels.api as sm"
   ]
  },
  {
   "cell_type": "code",
   "outputs": [
    {
     "name": "stdout",
     "output_type": "stream",
     "text": [
      "Lowest Bid: 905.22, Highest Bid: 995.00\n"
     ]
    }
   ],
   "source": [
    "\n",
    "def sample_reserve_prices(n_samples=1):\n",
    "    \"\"\"\n",
    "    Samples n_samples reserve prices based on a triangular distribution\n",
    "    from 900 to 1000 with the mode at 1000, reflecting a linear increase in probability.\n",
    "    \"\"\"\n",
    "    return np.random.triangular(900, 1000, 1000, n_samples)\n",
    "\n",
    "def set_bid_strategy(samples, strategy='simple'):\n",
    "    \"\"\"\n",
    "    Sets the lowest and highest bid based on the sampled reserve prices.\n",
    "    The simple strategy sets the lowest bid just above the minimum to avoid unlikely low prices,\n",
    "    and the highest bid near the maximum but with consideration for budget and purchase goals.\n",
    "    \"\"\"\n",
    "    if strategy == 'simple':\n",
    "        lowest_bid = np.min(samples) + (np.max(samples) - np.min(samples)) * 0.05  # 5% above the minimum\n",
    "        highest_bid = np.max(samples) - (np.max(samples) - np.min(samples)) * 0.05 # 5% below the maximum\n",
    "        return lowest_bid, highest_bid\n",
    "\n",
    "# Example usage:\n",
    "n_samples = 10000  # Number of samples to model the reserve prices\n",
    "samples = sample_reserve_prices(n_samples)\n",
    "lowest_bid, highest_bid = set_bid_strategy(samples)\n",
    "print(f\"Lowest Bid: {lowest_bid:.2f}, Highest Bid: {highest_bid:.2f}\")"
   ],
   "metadata": {
    "collapsed": false,
    "ExecuteTime": {
     "end_time": "2024-04-09T11:46:12.025612Z",
     "start_time": "2024-04-09T11:46:12.021263Z"
    }
   },
   "id": "6a2096a5ab86e8fd",
   "execution_count": 54
  },
  {
   "cell_type": "code",
   "outputs": [
    {
     "data": {
      "text/plain": "array([[<Axes: title={'center': '0'}>]], dtype=object)"
     },
     "execution_count": 55,
     "metadata": {},
     "output_type": "execute_result"
    },
    {
     "data": {
      "text/plain": "<Figure size 640x480 with 1 Axes>",
      "image/png": "[encoded data removed]"
     },
     "metadata": {},
     "output_type": "display_data"
    }
   ],
   "source": [
    "pd.DataFrame(samples).hist()"
   ],
   "metadata": {
    "collapsed": false,
    "ExecuteTime": {
     "end_time": "2024-04-09T11:46:12.101957Z",
     "start_time": "2024-04-09T11:46:12.025612Z"
    }
   },
   "id": "ccfed3370cb846a8",
   "execution_count": 55
  },
  {
   "cell_type": "code",
   "outputs": [],
   "source": [
    "samples_less_than_950 = samples[samples < 950]\n",
    "samples_greater = samples[samples >= 950]\n"
   ],
   "metadata": {
    "collapsed": false,
    "ExecuteTime": {
     "end_time": "2024-04-09T11:46:12.104976Z",
     "start_time": "2024-04-09T11:46:12.101957Z"
    }
   },
   "id": "da57f0e4159eeda0",
   "execution_count": 56
  },
  {
   "cell_type": "code",
   "outputs": [
    {
     "data": {
      "text/plain": "2547"
     },
     "execution_count": 57,
     "metadata": {},
     "output_type": "execute_result"
    }
   ],
   "source": [
    "len(samples_less_than_950)\n"
   ],
   "metadata": {
    "collapsed": false,
    "ExecuteTime": {
     "end_time": "2024-04-09T11:46:12.108341Z",
     "start_time": "2024-04-09T11:46:12.105980Z"
    }
   },
   "id": "46c15655306cb325",
   "execution_count": 57
  },
  {
   "cell_type": "code",
   "outputs": [
    {
     "data": {
      "text/plain": "7453"
     },
     "execution_count": 58,
     "metadata": {},
     "output_type": "execute_result"
    }
   ],
   "source": [
    "len(samples_greater)"
   ],
   "metadata": {
    "collapsed": false,
    "ExecuteTime": {
     "end_time": "2024-04-09T11:46:12.112155Z",
     "start_time": "2024-04-09T11:46:12.108341Z"
    }
   },
   "id": "d6e979fbfde20717",
   "execution_count": 58
  },
  {
   "cell_type": "code",
   "outputs": [],
   "source": [
    "# simulate, set lowest bid at 901, change highest bid through iterations\n",
    "# if lowest bid wins, you get $99 profit. If highest bid wins, you're hedged and still make money. \n",
    "\n",
    "def simulate_purchases(lowest_price, highest_price, n_simulations=100):\n",
    "    \"\"\"\n",
    "    Simulates n_simulations of purchases based on a bid price.\n",
    "    Returns the number of successful purchases and the average purchase price.\n",
    "    \"\"\"\n",
    "    # Sample reserve prices based on a triangular distribution as before\n",
    "    reserve_prices = np.random.triangular(900, 1000, 1000, n_simulations)\n",
    "    loss = 0\n",
    "    gain = 0\n",
    "    for i in reserve_prices:\n",
    "        if i < lowest_price:\n",
    "            loss = loss + lowest_price - i\n",
    "            gain = gain + 1000 - lowest_price\n",
    "        elif i < highest_price:\n",
    "            loss = loss + highest_price - i\n",
    "            gain = gain + 1000 - highest_price\n",
    "            \n",
    "    return loss, gain"
   ],
   "metadata": {
    "collapsed": false,
    "ExecuteTime": {
     "end_time": "2024-04-09T11:46:12.115497Z",
     "start_time": "2024-04-09T11:46:12.112155Z"
    }
   },
   "id": "6ed6b57600ce8a85",
   "execution_count": 59
  },
  {
   "cell_type": "code",
   "outputs": [
    {
     "name": "stdout",
     "output_type": "stream",
     "text": [
      "Lowest bid 947 Highest bid 965 Loss $ 514916.23926284414 \n",
      " Profit $ 1868513 \n",
      "Diff $ 1353596.7607371558\n"
     ]
    }
   ],
   "source": [
    "low = 947\n",
    "high = 965\n",
    "loss, gain = simulate_purchases(947, 965, 100000)\n",
    "\n",
    "print(f\"Lowest bid\", 947, \"Highest bid\", 965, \"Loss\", \"$\", loss, \"\\n\",\n",
    "      \"Profit\", \"$\", gain, \"\\n\"\n",
    "      \"Diff $\", gain - loss)"
   ],
   "metadata": {
    "collapsed": false,
    "ExecuteTime": {
     "end_time": "2024-04-09T11:46:12.129194Z",
     "start_time": "2024-04-09T11:46:12.115497Z"
    }
   },
   "id": "3aaccbd9c6add058",
   "execution_count": 60
  },
  {
   "cell_type": "code",
   "outputs": [
    {
     "name": "stdout",
     "output_type": "stream",
     "text": [
      "Optimal Lowest Bid: 944, Optimal Highest Bid: 963, Max Diff: 140338.3263040093\n"
     ]
    }
   ],
   "source": [
    "def optimize_bids(step=1):\n",
    "    best_diff = -np.inf\n",
    "    best_lowest = None\n",
    "    best_highest = None\n",
    "    for lowest_bid in range(900, 1000, step):\n",
    "        for highest_bid in range(lowest_bid, 1000 + step, step):\n",
    "            loss, gain = simulate_purchases(lowest_bid, highest_bid, 10000)\n",
    "            diff = gain - loss\n",
    "            if diff > best_diff:\n",
    "                best_diff = diff\n",
    "                best_lowest = lowest_bid\n",
    "                best_highest = highest_bid\n",
    "    return best_lowest, best_highest, best_diff\n",
    "\n",
    "best_lowest, best_highest, best_diff = optimize_bids(1)  # Using a step of 5 for faster computation\n",
    "print(f\"Optimal Lowest Bid: {best_lowest}, Optimal Highest Bid: {best_highest}, Max Diff: {best_diff}\")"
   ],
   "metadata": {
    "collapsed": false,
    "ExecuteTime": {
     "end_time": "2024-04-09T11:46:17.719590Z",
     "start_time": "2024-04-09T11:46:12.129194Z"
    }
   },
   "id": "f0ed7b231d5eed32",
   "execution_count": 61
  },
  {
   "cell_type": "code",
   "outputs": [
    {
     "name": "stdout",
     "output_type": "stream",
     "text": [
      "Optimal Lowest Bid: 938, Optimal Highest Bid: 965, Max Diff: 140624.6872665106\n",
      "Optimal Lowest Bid: 939, Optimal Highest Bid: 962, Max Diff: 140729.04353187693\n",
      "Optimal Lowest Bid: 945, Optimal Highest Bid: 963, Max Diff: 142582.77399745624\n",
      "Optimal Lowest Bid: 941, Optimal Highest Bid: 964, Max Diff: 140013.60259472072\n",
      "Optimal Lowest Bid: 940, Optimal Highest Bid: 963, Max Diff: 142047.59660948644\n",
      "Optimal Lowest Bid: 944, Optimal Highest Bid: 965, Max Diff: 140972.63467877157\n",
      "Optimal Lowest Bid: 943, Optimal Highest Bid: 964, Max Diff: 142024.16042807116\n",
      "Optimal Lowest Bid: 945, Optimal Highest Bid: 967, Max Diff: 140957.80718359898\n",
      "Optimal Lowest Bid: 943, Optimal Highest Bid: 964, Max Diff: 140618.45174946848\n",
      "Optimal Lowest Bid: 939, Optimal Highest Bid: 961, Max Diff: 140192.33539875638\n",
      "Optimal Lowest Bid: 945, Optimal Highest Bid: 965, Max Diff: 141199.52658499853\n",
      "Optimal Lowest Bid: 942, Optimal Highest Bid: 966, Max Diff: 141750.4829899926\n",
      "Optimal Lowest Bid: 943, Optimal Highest Bid: 963, Max Diff: 141659.7114412648\n",
      "Optimal Lowest Bid: 941, Optimal Highest Bid: 962, Max Diff: 140700.63917694936\n",
      "Optimal Lowest Bid: 940, Optimal Highest Bid: 964, Max Diff: 141756.89346577454\n",
      "Optimal Lowest Bid: 943, Optimal Highest Bid: 967, Max Diff: 141510.65209489645\n",
      "Optimal Lowest Bid: 944, Optimal Highest Bid: 963, Max Diff: 140484.00478154785\n",
      "Optimal Lowest Bid: 944, Optimal Highest Bid: 965, Max Diff: 140008.46912556156\n",
      "Optimal Lowest Bid: 937, Optimal Highest Bid: 961, Max Diff: 140756.357554458\n",
      "Optimal Lowest Bid: 939, Optimal Highest Bid: 964, Max Diff: 140876.15082090168\n",
      "Optimal Lowest Bid: 947, Optimal Highest Bid: 969, Max Diff: 141384.65074298505\n",
      "Optimal Lowest Bid: 943, Optimal Highest Bid: 962, Max Diff: 141813.61208282283\n",
      "Optimal Lowest Bid: 939, Optimal Highest Bid: 963, Max Diff: 140429.8847847542\n",
      "Optimal Lowest Bid: 945, Optimal Highest Bid: 967, Max Diff: 140131.01129335948\n",
      "Optimal Lowest Bid: 944, Optimal Highest Bid: 962, Max Diff: 140439.96484935525\n",
      "Optimal Lowest Bid: 944, Optimal Highest Bid: 963, Max Diff: 140766.23457480132\n",
      "Optimal Lowest Bid: 944, Optimal Highest Bid: 964, Max Diff: 142091.53075172481\n",
      "Optimal Lowest Bid: 944, Optimal Highest Bid: 964, Max Diff: 139842.63023801547\n",
      "Optimal Lowest Bid: 940, Optimal Highest Bid: 964, Max Diff: 141541.82755028058\n",
      "Optimal Lowest Bid: 939, Optimal Highest Bid: 962, Max Diff: 140942.05517859512\n",
      "Optimal Lowest Bid: 942, Optimal Highest Bid: 965, Max Diff: 140450.74114111208\n",
      "Optimal Lowest Bid: 941, Optimal Highest Bid: 963, Max Diff: 140332.9993050344\n",
      "Optimal Lowest Bid: 944, Optimal Highest Bid: 966, Max Diff: 140016.5579138513\n",
      "Optimal Lowest Bid: 943, Optimal Highest Bid: 964, Max Diff: 141361.69142018282\n",
      "Optimal Lowest Bid: 944, Optimal Highest Bid: 965, Max Diff: 140215.40334977448\n",
      "Optimal Lowest Bid: 941, Optimal Highest Bid: 962, Max Diff: 140656.41749051164\n",
      "Optimal Lowest Bid: 939, Optimal Highest Bid: 963, Max Diff: 140464.1546129645\n",
      "Optimal Lowest Bid: 944, Optimal Highest Bid: 963, Max Diff: 143523.09522240976\n",
      "Optimal Lowest Bid: 941, Optimal Highest Bid: 964, Max Diff: 140575.75938685154\n",
      "Optimal Lowest Bid: 944, Optimal Highest Bid: 964, Max Diff: 140480.29441092358\n",
      "Optimal Lowest Bid: 941, Optimal Highest Bid: 963, Max Diff: 141110.91457840687\n",
      "Optimal Lowest Bid: 942, Optimal Highest Bid: 963, Max Diff: 143070.4007150138\n",
      "Optimal Lowest Bid: 945, Optimal Highest Bid: 964, Max Diff: 140684.7451803308\n",
      "Optimal Lowest Bid: 942, Optimal Highest Bid: 962, Max Diff: 142426.09341945095\n",
      "Optimal Lowest Bid: 939, Optimal Highest Bid: 960, Max Diff: 141119.2116688627\n",
      "Optimal Lowest Bid: 942, Optimal Highest Bid: 963, Max Diff: 141085.84866806274\n",
      "Optimal Lowest Bid: 944, Optimal Highest Bid: 965, Max Diff: 140356.02287277632\n",
      "Optimal Lowest Bid: 942, Optimal Highest Bid: 964, Max Diff: 140904.8181321531\n",
      "Optimal Lowest Bid: 945, Optimal Highest Bid: 967, Max Diff: 140412.96917743667\n",
      "Optimal Lowest Bid: 942, Optimal Highest Bid: 962, Max Diff: 140563.04040594312\n",
      "Optimal Lowest Bid: 943, Optimal Highest Bid: 965, Max Diff: 140952.24886831548\n",
      "Optimal Lowest Bid: 945, Optimal Highest Bid: 966, Max Diff: 141057.26773074162\n",
      "Optimal Lowest Bid: 943, Optimal Highest Bid: 965, Max Diff: 141126.25375149993\n",
      "Optimal Lowest Bid: 942, Optimal Highest Bid: 963, Max Diff: 141034.1862049701\n",
      "Optimal Lowest Bid: 943, Optimal Highest Bid: 964, Max Diff: 142316.21337385906\n",
      "Optimal Lowest Bid: 939, Optimal Highest Bid: 961, Max Diff: 141207.0629887505\n",
      "Optimal Lowest Bid: 942, Optimal Highest Bid: 964, Max Diff: 140179.43921258498\n",
      "Optimal Lowest Bid: 941, Optimal Highest Bid: 961, Max Diff: 142148.3799536272\n",
      "Optimal Lowest Bid: 942, Optimal Highest Bid: 961, Max Diff: 141019.28131071466\n",
      "Optimal Lowest Bid: 943, Optimal Highest Bid: 962, Max Diff: 140428.0297369325\n",
      "Optimal Lowest Bid: 940, Optimal Highest Bid: 961, Max Diff: 139883.5306980184\n",
      "Optimal Lowest Bid: 942, Optimal Highest Bid: 963, Max Diff: 141728.39572728262\n",
      "Optimal Lowest Bid: 942, Optimal Highest Bid: 964, Max Diff: 140330.45699966824\n",
      "Optimal Lowest Bid: 944, Optimal Highest Bid: 965, Max Diff: 142174.89799221986\n",
      "Optimal Lowest Bid: 942, Optimal Highest Bid: 963, Max Diff: 140935.67599768913\n",
      "Optimal Lowest Bid: 941, Optimal Highest Bid: 965, Max Diff: 141121.57532890965\n",
      "Optimal Lowest Bid: 945, Optimal Highest Bid: 965, Max Diff: 141512.26657092734\n",
      "Optimal Lowest Bid: 945, Optimal Highest Bid: 966, Max Diff: 140868.26212142745\n",
      "Optimal Lowest Bid: 939, Optimal Highest Bid: 963, Max Diff: 141399.2939358266\n",
      "Optimal Lowest Bid: 943, Optimal Highest Bid: 964, Max Diff: 140960.9057387102\n",
      "Optimal Lowest Bid: 944, Optimal Highest Bid: 964, Max Diff: 140617.6157655565\n",
      "Optimal Lowest Bid: 939, Optimal Highest Bid: 963, Max Diff: 142400.8771573407\n",
      "Optimal Lowest Bid: 939, Optimal Highest Bid: 961, Max Diff: 141517.98793805868\n",
      "Optimal Lowest Bid: 945, Optimal Highest Bid: 964, Max Diff: 141502.83328591764\n",
      "Optimal Lowest Bid: 944, Optimal Highest Bid: 963, Max Diff: 142388.0699449119\n",
      "Optimal Lowest Bid: 943, Optimal Highest Bid: 962, Max Diff: 141952.8268946043\n",
      "Optimal Lowest Bid: 941, Optimal Highest Bid: 963, Max Diff: 142137.92721628415\n",
      "Optimal Lowest Bid: 944, Optimal Highest Bid: 968, Max Diff: 139823.6811779502\n",
      "Optimal Lowest Bid: 943, Optimal Highest Bid: 965, Max Diff: 141839.03148769916\n",
      "Optimal Lowest Bid: 939, Optimal Highest Bid: 962, Max Diff: 143017.865800165\n",
      "Optimal Lowest Bid: 944, Optimal Highest Bid: 963, Max Diff: 141049.32113658442\n",
      "Optimal Lowest Bid: 941, Optimal Highest Bid: 965, Max Diff: 141935.710617074\n",
      "Optimal Lowest Bid: 943, Optimal Highest Bid: 965, Max Diff: 140900.77438359734\n",
      "Optimal Lowest Bid: 946, Optimal Highest Bid: 963, Max Diff: 142424.55360031174\n",
      "Optimal Lowest Bid: 943, Optimal Highest Bid: 964, Max Diff: 141987.50415485055\n",
      "Optimal Lowest Bid: 936, Optimal Highest Bid: 960, Max Diff: 143155.45711970658\n",
      "Optimal Lowest Bid: 946, Optimal Highest Bid: 965, Max Diff: 141063.25872197116\n",
      "Optimal Lowest Bid: 942, Optimal Highest Bid: 965, Max Diff: 142170.22767864587\n",
      "Optimal Lowest Bid: 943, Optimal Highest Bid: 964, Max Diff: 141284.01795933803\n",
      "Optimal Lowest Bid: 940, Optimal Highest Bid: 964, Max Diff: 140661.98184114695\n",
      "Optimal Lowest Bid: 943, Optimal Highest Bid: 962, Max Diff: 140559.79720407445\n",
      "Optimal Lowest Bid: 939, Optimal Highest Bid: 962, Max Diff: 141618.8844212375\n",
      "Optimal Lowest Bid: 946, Optimal Highest Bid: 966, Max Diff: 140633.50224161736\n",
      "Optimal Lowest Bid: 943, Optimal Highest Bid: 964, Max Diff: 142981.9744523937\n",
      "Optimal Lowest Bid: 943, Optimal Highest Bid: 963, Max Diff: 141605.57167254528\n",
      "Optimal Lowest Bid: 945, Optimal Highest Bid: 965, Max Diff: 140113.94252451288\n",
      "Optimal Lowest Bid: 940, Optimal Highest Bid: 966, Max Diff: 143182.34961478552\n",
      "Optimal Lowest Bid: 942, Optimal Highest Bid: 962, Max Diff: 141044.64379639906\n",
      "Optimal Lowest Bid: 944, Optimal Highest Bid: 964, Max Diff: 141248.13479606883\n",
      "Optimal Lowest Bid: 943, Optimal Highest Bid: 963, Max Diff: 139695.52532606028\n",
      "Optimal Lowest Bid: 944, Optimal Highest Bid: 966, Max Diff: 141405.64451581312\n",
      "Optimal Lowest Bid: 944, Optimal Highest Bid: 966, Max Diff: 141033.98043217056\n",
      "Optimal Lowest Bid: 941, Optimal Highest Bid: 964, Max Diff: 142923.89713155123\n",
      "Optimal Lowest Bid: 941, Optimal Highest Bid: 963, Max Diff: 142183.6874185215\n",
      "Optimal Lowest Bid: 946, Optimal Highest Bid: 964, Max Diff: 140195.4891378922\n",
      "Optimal Lowest Bid: 941, Optimal Highest Bid: 963, Max Diff: 140836.2861547802\n",
      "Optimal Lowest Bid: 946, Optimal Highest Bid: 965, Max Diff: 141836.32300458555\n",
      "Optimal Lowest Bid: 943, Optimal Highest Bid: 965, Max Diff: 140751.94415605027\n",
      "Optimal Lowest Bid: 943, Optimal Highest Bid: 966, Max Diff: 140259.5743069274\n",
      "Optimal Lowest Bid: 939, Optimal Highest Bid: 963, Max Diff: 142295.86421718614\n",
      "Optimal Lowest Bid: 942, Optimal Highest Bid: 962, Max Diff: 139649.121108697\n",
      "Optimal Lowest Bid: 944, Optimal Highest Bid: 968, Max Diff: 139368.34669362401\n",
      "Optimal Lowest Bid: 944, Optimal Highest Bid: 962, Max Diff: 141019.09435830696\n",
      "Optimal Lowest Bid: 944, Optimal Highest Bid: 964, Max Diff: 141945.11938459525\n",
      "Optimal Lowest Bid: 943, Optimal Highest Bid: 962, Max Diff: 141042.47567138082\n",
      "Optimal Lowest Bid: 946, Optimal Highest Bid: 967, Max Diff: 140883.6593550065\n",
      "Optimal Lowest Bid: 942, Optimal Highest Bid: 962, Max Diff: 142937.07325534162\n",
      "Optimal Lowest Bid: 946, Optimal Highest Bid: 963, Max Diff: 141030.74322078103\n",
      "Optimal Lowest Bid: 942, Optimal Highest Bid: 964, Max Diff: 141796.89071315737\n",
      "Optimal Lowest Bid: 943, Optimal Highest Bid: 963, Max Diff: 140328.14681642945\n",
      "Optimal Lowest Bid: 944, Optimal Highest Bid: 965, Max Diff: 141286.03528288266\n",
      "Optimal Lowest Bid: 941, Optimal Highest Bid: 962, Max Diff: 140524.33880082832\n",
      "Optimal Lowest Bid: 940, Optimal Highest Bid: 965, Max Diff: 140271.38581396305\n",
      "Optimal Lowest Bid: 942, Optimal Highest Bid: 964, Max Diff: 140565.38978613738\n",
      "Optimal Lowest Bid: 942, Optimal Highest Bid: 960, Max Diff: 140855.70845908552\n",
      "Optimal Lowest Bid: 937, Optimal Highest Bid: 960, Max Diff: 139776.45277088057\n",
      "Optimal Lowest Bid: 943, Optimal Highest Bid: 963, Max Diff: 141423.83713809957\n",
      "Optimal Lowest Bid: 945, Optimal Highest Bid: 966, Max Diff: 139513.9392600117\n",
      "Optimal Lowest Bid: 940, Optimal Highest Bid: 961, Max Diff: 139954.12731347713\n",
      "Optimal Lowest Bid: 946, Optimal Highest Bid: 966, Max Diff: 139995.8132826902\n",
      "Optimal Lowest Bid: 943, Optimal Highest Bid: 964, Max Diff: 140553.7177486052\n",
      "Optimal Lowest Bid: 943, Optimal Highest Bid: 966, Max Diff: 141811.1744767002\n",
      "Optimal Lowest Bid: 945, Optimal Highest Bid: 966, Max Diff: 140139.98782407807\n",
      "Optimal Lowest Bid: 942, Optimal Highest Bid: 965, Max Diff: 140977.80251835714\n",
      "Optimal Lowest Bid: 944, Optimal Highest Bid: 964, Max Diff: 142067.04106066085\n",
      "Optimal Lowest Bid: 947, Optimal Highest Bid: 965, Max Diff: 140932.60077984474\n",
      "Optimal Lowest Bid: 943, Optimal Highest Bid: 965, Max Diff: 141620.11516166222\n",
      "Optimal Lowest Bid: 941, Optimal Highest Bid: 961, Max Diff: 141740.26072770974\n",
      "Optimal Lowest Bid: 941, Optimal Highest Bid: 961, Max Diff: 140804.25003061251\n",
      "Optimal Lowest Bid: 944, Optimal Highest Bid: 965, Max Diff: 142114.68054980403\n",
      "Optimal Lowest Bid: 944, Optimal Highest Bid: 964, Max Diff: 140771.6442145747\n",
      "Optimal Lowest Bid: 943, Optimal Highest Bid: 967, Max Diff: 141333.60988541655\n",
      "Optimal Lowest Bid: 944, Optimal Highest Bid: 967, Max Diff: 141833.55708131986\n",
      "Optimal Lowest Bid: 938, Optimal Highest Bid: 963, Max Diff: 141542.93884347717\n",
      "Optimal Lowest Bid: 940, Optimal Highest Bid: 962, Max Diff: 141265.27088656422\n",
      "Optimal Lowest Bid: 942, Optimal Highest Bid: 966, Max Diff: 140333.74427912466\n",
      "Optimal Lowest Bid: 942, Optimal Highest Bid: 964, Max Diff: 141744.2507157986\n",
      "Optimal Lowest Bid: 941, Optimal Highest Bid: 962, Max Diff: 141942.5229142324\n",
      "Optimal Lowest Bid: 940, Optimal Highest Bid: 961, Max Diff: 140671.1573045047\n",
      "Optimal Lowest Bid: 943, Optimal Highest Bid: 962, Max Diff: 140462.48722525913\n",
      "Optimal Lowest Bid: 946, Optimal Highest Bid: 964, Max Diff: 139624.9050641671\n",
      "Optimal Lowest Bid: 941, Optimal Highest Bid: 965, Max Diff: 141103.56396947254\n",
      "Optimal Lowest Bid: 946, Optimal Highest Bid: 965, Max Diff: 141781.11897784885\n",
      "Optimal Lowest Bid: 944, Optimal Highest Bid: 964, Max Diff: 140096.895897327\n",
      "Optimal Lowest Bid: 941, Optimal Highest Bid: 964, Max Diff: 140017.3238792466\n",
      "Optimal Lowest Bid: 942, Optimal Highest Bid: 965, Max Diff: 142823.93913999473\n",
      "Optimal Lowest Bid: 942, Optimal Highest Bid: 967, Max Diff: 141256.30027279607\n",
      "Optimal Lowest Bid: 944, Optimal Highest Bid: 968, Max Diff: 140366.058555419\n",
      "Optimal Lowest Bid: 945, Optimal Highest Bid: 964, Max Diff: 141319.17707692325\n",
      "Optimal Lowest Bid: 945, Optimal Highest Bid: 967, Max Diff: 140471.84232159995\n",
      "Optimal Lowest Bid: 940, Optimal Highest Bid: 964, Max Diff: 141557.90241138957\n",
      "Optimal Lowest Bid: 941, Optimal Highest Bid: 962, Max Diff: 140741.5804815134\n",
      "Optimal Lowest Bid: 943, Optimal Highest Bid: 963, Max Diff: 141065.3935819797\n",
      "Optimal Lowest Bid: 947, Optimal Highest Bid: 965, Max Diff: 140805.06505005766\n",
      "Optimal Lowest Bid: 943, Optimal Highest Bid: 965, Max Diff: 141332.36951520413\n",
      "Optimal Lowest Bid: 944, Optimal Highest Bid: 966, Max Diff: 140795.11501158983\n",
      "Optimal Lowest Bid: 942, Optimal Highest Bid: 965, Max Diff: 140251.1577042722\n",
      "Optimal Lowest Bid: 944, Optimal Highest Bid: 966, Max Diff: 141039.80042677326\n",
      "Optimal Lowest Bid: 938, Optimal Highest Bid: 961, Max Diff: 141424.7333147538\n",
      "Optimal Lowest Bid: 936, Optimal Highest Bid: 962, Max Diff: 141578.7809160807\n",
      "Optimal Lowest Bid: 944, Optimal Highest Bid: 961, Max Diff: 139308.88805205416\n",
      "Optimal Lowest Bid: 940, Optimal Highest Bid: 964, Max Diff: 140580.26852634663\n",
      "Optimal Lowest Bid: 940, Optimal Highest Bid: 961, Max Diff: 142445.53637634695\n",
      "Optimal Lowest Bid: 939, Optimal Highest Bid: 960, Max Diff: 140423.96263279865\n",
      "Optimal Lowest Bid: 941, Optimal Highest Bid: 962, Max Diff: 141776.34430249565\n",
      "Optimal Lowest Bid: 943, Optimal Highest Bid: 964, Max Diff: 139501.2921340089\n"
     ]
    },
    {
     "ename": "KeyboardInterrupt",
     "evalue": "",
     "output_type": "error",
     "traceback": [
      "\u001B[1;31m---------------------------------------------------------------------------\u001B[0m",
      "\u001B[1;31mKeyboardInterrupt\u001B[0m                         Traceback (most recent call last)",
      "Cell \u001B[1;32mIn[62], line 5\u001B[0m\n\u001B[0;32m      3\u001B[0m results \u001B[38;5;241m=\u001B[39m []\n\u001B[0;32m      4\u001B[0m \u001B[38;5;28;01mfor\u001B[39;00m i \u001B[38;5;129;01min\u001B[39;00m \u001B[38;5;28mrange\u001B[39m(\u001B[38;5;241m0\u001B[39m, \u001B[38;5;241m2000\u001B[39m):\n\u001B[1;32m----> 5\u001B[0m     best_lowest, best_highest, best_diff \u001B[38;5;241m=\u001B[39m \u001B[43moptimize_bids\u001B[49m\u001B[43m(\u001B[49m\u001B[38;5;241;43m1\u001B[39;49m\u001B[43m)\u001B[49m\n\u001B[0;32m      6\u001B[0m     \u001B[38;5;28mprint\u001B[39m(\u001B[38;5;124mf\u001B[39m\u001B[38;5;124m\"\u001B[39m\u001B[38;5;124mOptimal Lowest Bid: \u001B[39m\u001B[38;5;132;01m{\u001B[39;00mbest_lowest\u001B[38;5;132;01m}\u001B[39;00m\u001B[38;5;124m, Optimal Highest Bid: \u001B[39m\u001B[38;5;132;01m{\u001B[39;00mbest_highest\u001B[38;5;132;01m}\u001B[39;00m\u001B[38;5;124m, Max Diff: \u001B[39m\u001B[38;5;132;01m{\u001B[39;00mbest_diff\u001B[38;5;132;01m}\u001B[39;00m\u001B[38;5;124m\"\u001B[39m)\n\u001B[0;32m      7\u001B[0m     results\u001B[38;5;241m.\u001B[39mappend([best_lowest, best_highest, best_diff])\n",
      "Cell \u001B[1;32mIn[61], line 7\u001B[0m, in \u001B[0;36moptimize_bids\u001B[1;34m(step)\u001B[0m\n\u001B[0;32m      5\u001B[0m \u001B[38;5;28;01mfor\u001B[39;00m lowest_bid \u001B[38;5;129;01min\u001B[39;00m \u001B[38;5;28mrange\u001B[39m(\u001B[38;5;241m900\u001B[39m, \u001B[38;5;241m1000\u001B[39m, step):\n\u001B[0;32m      6\u001B[0m     \u001B[38;5;28;01mfor\u001B[39;00m highest_bid \u001B[38;5;129;01min\u001B[39;00m \u001B[38;5;28mrange\u001B[39m(lowest_bid, \u001B[38;5;241m1000\u001B[39m \u001B[38;5;241m+\u001B[39m step, step):\n\u001B[1;32m----> 7\u001B[0m         loss, gain \u001B[38;5;241m=\u001B[39m \u001B[43msimulate_purchases\u001B[49m\u001B[43m(\u001B[49m\u001B[43mlowest_bid\u001B[49m\u001B[43m,\u001B[49m\u001B[43m \u001B[49m\u001B[43mhighest_bid\u001B[49m\u001B[43m,\u001B[49m\u001B[43m \u001B[49m\u001B[38;5;241;43m10000\u001B[39;49m\u001B[43m)\u001B[49m\n\u001B[0;32m      8\u001B[0m         diff \u001B[38;5;241m=\u001B[39m gain \u001B[38;5;241m-\u001B[39m loss\n\u001B[0;32m      9\u001B[0m         \u001B[38;5;28;01mif\u001B[39;00m diff \u001B[38;5;241m>\u001B[39m best_diff:\n",
      "Cell \u001B[1;32mIn[59], line 10\u001B[0m, in \u001B[0;36msimulate_purchases\u001B[1;34m(lowest_price, highest_price, n_simulations)\u001B[0m\n\u001B[0;32m      5\u001B[0m \u001B[38;5;250m\u001B[39m\u001B[38;5;124;03m\"\"\"\u001B[39;00m\n\u001B[0;32m      6\u001B[0m \u001B[38;5;124;03mSimulates n_simulations of purchases based on a bid price.\u001B[39;00m\n\u001B[0;32m      7\u001B[0m \u001B[38;5;124;03mReturns the number of successful purchases and the average purchase price.\u001B[39;00m\n\u001B[0;32m      8\u001B[0m \u001B[38;5;124;03m\"\"\"\u001B[39;00m\n\u001B[0;32m      9\u001B[0m \u001B[38;5;66;03m# Sample reserve prices based on a triangular distribution as before\u001B[39;00m\n\u001B[1;32m---> 10\u001B[0m reserve_prices \u001B[38;5;241m=\u001B[39m \u001B[43mnp\u001B[49m\u001B[38;5;241;43m.\u001B[39;49m\u001B[43mrandom\u001B[49m\u001B[38;5;241;43m.\u001B[39;49m\u001B[43mtriangular\u001B[49m\u001B[43m(\u001B[49m\u001B[38;5;241;43m900\u001B[39;49m\u001B[43m,\u001B[49m\u001B[43m \u001B[49m\u001B[38;5;241;43m1000\u001B[39;49m\u001B[43m,\u001B[49m\u001B[43m \u001B[49m\u001B[38;5;241;43m1000\u001B[39;49m\u001B[43m,\u001B[49m\u001B[43m \u001B[49m\u001B[43mn_simulations\u001B[49m\u001B[43m)\u001B[49m\n\u001B[0;32m     11\u001B[0m loss \u001B[38;5;241m=\u001B[39m \u001B[38;5;241m0\u001B[39m\n\u001B[0;32m     12\u001B[0m gain \u001B[38;5;241m=\u001B[39m \u001B[38;5;241m0\u001B[39m\n",
      "\u001B[1;31mKeyboardInterrupt\u001B[0m: "
     ]
    }
   ],
   "source": [
    "# run a bunch of sims on optimize bids to see if it's consistent\n",
    "# store the results in a list\n",
    "results = []\n",
    "for i in range(0, 2000):\n",
    "    best_lowest, best_highest, best_diff = optimize_bids(1)\n",
    "    print(f\"Optimal Lowest Bid: {best_lowest}, Optimal Highest Bid: {best_highest}, Max Diff: {best_diff}\")\n",
    "    results.append([best_lowest, best_highest, best_diff])"
   ],
   "metadata": {
    "collapsed": false,
    "ExecuteTime": {
     "end_time": "2024-04-09T12:07:40.927241Z",
     "start_time": "2024-04-09T11:46:17.720637Z"
    }
   },
   "id": "7755f08889e73e34",
   "execution_count": 62
  },
  {
   "cell_type": "code",
   "outputs": [],
   "source": [
    "pd.DataFrame(results).to_csv(\"plot dists.csv\")"
   ],
   "metadata": {
    "collapsed": false,
    "ExecuteTime": {
     "end_time": "2024-04-09T12:07:40.928247Z",
     "start_time": "2024-04-09T12:07:40.928247Z"
    }
   },
   "id": "64cac2afb83e9b89",
   "execution_count": null
  },
  {
   "cell_type": "code",
   "outputs": [],
   "source": [],
   "metadata": {
    "collapsed": false,
    "ExecuteTime": {
     "start_time": "2024-04-09T12:07:40.929247Z"
    }
   },
   "id": "b012aaeca1169e90"
  }
 ],
 "metadata": {
  "kernelspec": {
   "display_name": "Python 3",
   "language": "python",
   "name": "python3"
  },
  "language_info": {
   "codemirror_mode": {
    "name": "ipython",
    "version": 2
   },
   "file_extension": ".py",
   "mimetype": "text/x-python",
   "name": "python",
   "nbconvert_exporter": "python",
   "pygments_lexer": "ipython2",
   "version": "2.7.6"
  }
 },
 "nbformat": 4,
 "nbformat_minor": 5
}
